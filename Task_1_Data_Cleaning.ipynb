{
  "nbformat": 4,
  "nbformat_minor": 0,
  "metadata": {
    "colab": {
      "provenance": []
    },
    "kernelspec": {
      "name": "python3",
      "display_name": "Python 3"
    },
    "language_info": {
      "name": "python"
    }
  },
  "cells": [
    {
      "cell_type": "code",
      "execution_count": 3,
      "metadata": {
        "id": "nUuSgsuN6vKF"
      },
      "outputs": [],
      "source": [
        "# SECTION 1: Import Required Libraries\n",
        "import pandas as pd\n"
      ]
    },
    {
      "cell_type": "code",
      "source": [
        "# SECTION 2: Load Dataset\n",
        "df = pd.read_csv(\"KaggleV2-May-2016.csv\")  # Make sure the CSV is uploaded in your Colab session\n",
        "print(\"Initial Data Shape:\", df.shape)\n"
      ],
      "metadata": {
        "colab": {
          "base_uri": "https://localhost:8080/"
        },
        "id": "lvIAZHcE7qvT",
        "outputId": "d4b61a57-63ef-4849-9194-ff55601d9faa"
      },
      "execution_count": 4,
      "outputs": [
        {
          "output_type": "stream",
          "name": "stdout",
          "text": [
            "Initial Data Shape: (110527, 14)\n"
          ]
        }
      ]
    },
    {
      "cell_type": "code",
      "source": [
        "# SECTION 3: Check for Missing Values\n",
        "print(\"\\nMissing Values:\")\n",
        "print(df.isnull().sum())\n"
      ],
      "metadata": {
        "colab": {
          "base_uri": "https://localhost:8080/"
        },
        "id": "IweXd7Ob7ten",
        "outputId": "f6854231-532d-4ae0-9e92-559b1285d4e9"
      },
      "execution_count": 5,
      "outputs": [
        {
          "output_type": "stream",
          "name": "stdout",
          "text": [
            "\n",
            "Missing Values:\n",
            "PatientId         0\n",
            "AppointmentID     0\n",
            "Gender            0\n",
            "ScheduledDay      0\n",
            "AppointmentDay    0\n",
            "Age               0\n",
            "Neighbourhood     0\n",
            "Scholarship       0\n",
            "Hipertension      0\n",
            "Diabetes          0\n",
            "Alcoholism        0\n",
            "Handcap           0\n",
            "SMS_received      0\n",
            "No-show           0\n",
            "dtype: int64\n"
          ]
        }
      ]
    },
    {
      "cell_type": "code",
      "source": [
        "# SECTION 4: Remove Duplicate Rows\n",
        "duplicates = df.duplicated().sum()\n",
        "print(f\"\\nDuplicate Rows Found: {duplicates}\")\n",
        "df = df.drop_duplicates()\n"
      ],
      "metadata": {
        "colab": {
          "base_uri": "https://localhost:8080/"
        },
        "id": "-e8w7iRQ73pV",
        "outputId": "24caa272-2108-449c-df30-238ff596c109"
      },
      "execution_count": 6,
      "outputs": [
        {
          "output_type": "stream",
          "name": "stdout",
          "text": [
            "\n",
            "Duplicate Rows Found: 0\n"
          ]
        }
      ]
    },
    {
      "cell_type": "code",
      "source": [
        "# SECTION 5: Clean and Standardize Column Names\n",
        "df.columns = df.columns.str.strip().str.lower().str.replace(' ', '_')\n",
        "print(\"\\nUpdated Column Names:\")\n",
        "print(df.columns)\n"
      ],
      "metadata": {
        "colab": {
          "base_uri": "https://localhost:8080/"
        },
        "id": "CAUxzt2N78_A",
        "outputId": "df541462-fccd-4123-d5b3-52a732da29b2"
      },
      "execution_count": 7,
      "outputs": [
        {
          "output_type": "stream",
          "name": "stdout",
          "text": [
            "\n",
            "Updated Column Names:\n",
            "Index(['patientid', 'appointmentid', 'gender', 'scheduledday',\n",
            "       'appointmentday', 'age', 'neighbourhood', 'scholarship', 'hipertension',\n",
            "       'diabetes', 'alcoholism', 'handcap', 'sms_received', 'no-show'],\n",
            "      dtype='object')\n"
          ]
        }
      ]
    },
    {
      "cell_type": "code",
      "source": [
        "# SECTION 6: Standardize Text Fields (Gender)\n",
        "df['gender'] = df['gender'].str.upper()\n",
        "print(\"\\nUnique Gender Values:\", df['gender'].unique())\n"
      ],
      "metadata": {
        "colab": {
          "base_uri": "https://localhost:8080/"
        },
        "id": "1uas55B08Boz",
        "outputId": "0d15408a-013b-491a-e49d-f3280a39bd11"
      },
      "execution_count": 8,
      "outputs": [
        {
          "output_type": "stream",
          "name": "stdout",
          "text": [
            "\n",
            "Unique Gender Values: ['F' 'M']\n"
          ]
        }
      ]
    },
    {
      "cell_type": "code",
      "source": [
        "# SECTION 7: Convert Date Columns to Uniform Format (dd-mm-yyyy)\n",
        "df['scheduledday'] = pd.to_datetime(df['scheduledday'], errors='coerce').dt.strftime('%d-%m-%Y')\n",
        "df['appointmentday'] = pd.to_datetime(df['appointmentday'], errors='coerce').dt.strftime('%d-%m-%Y')\n"
      ],
      "metadata": {
        "id": "S2gbfJ6a8EGK"
      },
      "execution_count": 9,
      "outputs": []
    },
    {
      "cell_type": "code",
      "source": [
        "# SECTION 8: Handle Invalid Age Values\n",
        "df = df[df['age'] >= 0].copy()  # Filter and copy to avoid warning\n",
        "df['age'] = df['age'].astype(int)\n"
      ],
      "metadata": {
        "id": "OquAV-SZ8Khl"
      },
      "execution_count": 10,
      "outputs": []
    },
    {
      "cell_type": "code",
      "source": [
        "# SECTION 9: Drop Rows with Missing Neighborhood\n",
        "df = df[df['neighbourhood'].notna()]\n"
      ],
      "metadata": {
        "id": "1PX6MKu_8O_u"
      },
      "execution_count": 11,
      "outputs": []
    },
    {
      "cell_type": "code",
      "source": [
        "# SECTION 10: Final Data Overview\n",
        "print(\"\\nFinal Data Types:\")\n",
        "print(df.dtypes)\n",
        "\n",
        "print(\"\\nFinal Data Shape:\", df.shape)\n"
      ],
      "metadata": {
        "colab": {
          "base_uri": "https://localhost:8080/"
        },
        "id": "dwta3jwq8SPy",
        "outputId": "a7ff226d-6911-4505-dc67-c48a41ee5926"
      },
      "execution_count": 12,
      "outputs": [
        {
          "output_type": "stream",
          "name": "stdout",
          "text": [
            "\n",
            "Final Data Types:\n",
            "patientid         float64\n",
            "appointmentid       int64\n",
            "gender             object\n",
            "scheduledday       object\n",
            "appointmentday     object\n",
            "age                 int64\n",
            "neighbourhood      object\n",
            "scholarship         int64\n",
            "hipertension        int64\n",
            "diabetes            int64\n",
            "alcoholism          int64\n",
            "handcap             int64\n",
            "sms_received        int64\n",
            "no-show            object\n",
            "dtype: object\n",
            "\n",
            "Final Data Shape: (110526, 14)\n"
          ]
        }
      ]
    },
    {
      "cell_type": "code",
      "source": [
        "# SECTION 11: Save the Cleaned Dataset\n",
        "df.to_csv(\"cleaned_medical_appointments.csv\", index=False)\n",
        "print(\"✅ Cleaned dataset saved as 'cleaned_medical_appointments.csv'\")\n"
      ],
      "metadata": {
        "colab": {
          "base_uri": "https://localhost:8080/"
        },
        "id": "qPecm7Ag8WDB",
        "outputId": "241cc682-e0c0-449d-cfb5-20b0ae5bcdc8"
      },
      "execution_count": 13,
      "outputs": [
        {
          "output_type": "stream",
          "name": "stdout",
          "text": [
            "✅ Cleaned dataset saved as 'cleaned_medical_appointments.csv'\n"
          ]
        }
      ]
    },
    {
      "cell_type": "code",
      "source": [
        "# SECTION 12: Download CSV in Google Colab\n",
        "from google.colab import files\n",
        "files.download(\"cleaned_medical_appointments.csv\")\n"
      ],
      "metadata": {
        "colab": {
          "base_uri": "https://localhost:8080/",
          "height": 17
        },
        "id": "aPHjyF0Z8lyD",
        "outputId": "15e1919f-39db-41ee-9232-9429122954d9"
      },
      "execution_count": 14,
      "outputs": [
        {
          "output_type": "display_data",
          "data": {
            "text/plain": [
              "<IPython.core.display.Javascript object>"
            ],
            "application/javascript": [
              "\n",
              "    async function download(id, filename, size) {\n",
              "      if (!google.colab.kernel.accessAllowed) {\n",
              "        return;\n",
              "      }\n",
              "      const div = document.createElement('div');\n",
              "      const label = document.createElement('label');\n",
              "      label.textContent = `Downloading \"${filename}\": `;\n",
              "      div.appendChild(label);\n",
              "      const progress = document.createElement('progress');\n",
              "      progress.max = size;\n",
              "      div.appendChild(progress);\n",
              "      document.body.appendChild(div);\n",
              "\n",
              "      const buffers = [];\n",
              "      let downloaded = 0;\n",
              "\n",
              "      const channel = await google.colab.kernel.comms.open(id);\n",
              "      // Send a message to notify the kernel that we're ready.\n",
              "      channel.send({})\n",
              "\n",
              "      for await (const message of channel.messages) {\n",
              "        // Send a message to notify the kernel that we're ready.\n",
              "        channel.send({})\n",
              "        if (message.buffers) {\n",
              "          for (const buffer of message.buffers) {\n",
              "            buffers.push(buffer);\n",
              "            downloaded += buffer.byteLength;\n",
              "            progress.value = downloaded;\n",
              "          }\n",
              "        }\n",
              "      }\n",
              "      const blob = new Blob(buffers, {type: 'application/binary'});\n",
              "      const a = document.createElement('a');\n",
              "      a.href = window.URL.createObjectURL(blob);\n",
              "      a.download = filename;\n",
              "      div.appendChild(a);\n",
              "      a.click();\n",
              "      div.remove();\n",
              "    }\n",
              "  "
            ]
          },
          "metadata": {}
        },
        {
          "output_type": "display_data",
          "data": {
            "text/plain": [
              "<IPython.core.display.Javascript object>"
            ],
            "application/javascript": [
              "download(\"download_ff1749d6-2082-4b78-8618-dd6a6d0a1f1a\", \"cleaned_medical_appointments.csv\", 8749954)"
            ]
          },
          "metadata": {}
        }
      ]
    }
  ]
}